{
 "cells": [
  {
   "cell_type": "markdown",
   "id": "4fd81f61",
   "metadata": {},
   "source": [
    "# RAG for Guest Stories - Hugging Face"
   ]
  },
  {
   "cell_type": "code",
   "execution_count": 145,
   "id": "d7e7558c",
   "metadata": {},
   "outputs": [],
   "source": [
    "import langchain_core as lc\n",
    "import langchain_openai\n",
    "import langgraph as lg\n",
    "import langgraph.prebuilt as lp\n",
    "from langchain_community.llms import HuggingFaceHub "
   ]
  },
  {
   "cell_type": "code",
   "execution_count": 146,
   "id": "a5c55a28",
   "metadata": {},
   "outputs": [],
   "source": [
    "import os\n",
    "\n",
    "os.sys.path.append(\"./\")"
   ]
  },
  {
   "cell_type": "markdown",
   "id": "cae219af",
   "metadata": {},
   "source": [
    "# Credentials"
   ]
  },
  {
   "cell_type": "code",
   "execution_count": 147,
   "id": "c9a0b0fc",
   "metadata": {},
   "outputs": [
    {
     "name": "stdout",
     "output_type": "stream",
     "text": [
      "Variable already exists.\n"
     ]
    }
   ],
   "source": [
    "import getpass\n",
    "\n",
    "# TODO: Migrate to utils script\n",
    "def _get_var(var) -> None:\n",
    "    if os.getenv(var):\n",
    "        print(\"Variable already exists.\")\n",
    "    else:\n",
    "        os.environ[var] = getpass.getpass(prompt=f\"Type the value of {var}: \")\n",
    "\n",
    "var = \"HUGGINGFACEHUB_API_TOKEN\"\n",
    "_get_var(var)\n",
    "hf_token = os.getenv(var)"
   ]
  },
  {
   "cell_type": "markdown",
   "id": "7b9765c6",
   "metadata": {},
   "source": [
    "# Basic Agent"
   ]
  },
  {
   "cell_type": "code",
   "execution_count": 148,
   "id": "2a3d9678",
   "metadata": {},
   "outputs": [],
   "source": [
    "from langgraph.graph import END, START, StateGraph\n",
    "from langchain_openai import ChatOpenAI\n",
    "from dotenv import load_dotenv"
   ]
  },
  {
   "cell_type": "code",
   "execution_count": 149,
   "id": "4969df61",
   "metadata": {},
   "outputs": [],
   "source": [
    "# TODO: fix hf token gathering\n",
    "\n",
    "#load_dotenv(dotenv_path=\".venv/\")\n",
    "#hf_token = os.getenv(\"HUGGINGFACEHUB_API_TOKEN\")\n",
    "#print(hf_token)"
   ]
  },
  {
   "cell_type": "code",
   "execution_count": 150,
   "id": "43290489",
   "metadata": {},
   "outputs": [],
   "source": [
    "# Build AGent State Graph\n"
   ]
  },
  {
   "cell_type": "code",
   "execution_count": 151,
   "id": "993daa21",
   "metadata": {},
   "outputs": [],
   "source": [
    "from typing import TypedDict, Any\n",
    "from langchain.schema import AIMessage, HumanMessage\n",
    "from langchain_core import *\n",
    "from typing import Literal, TypedDict\n",
    "#from langgraph import Edge"
   ]
  },
  {
   "cell_type": "code",
   "execution_count": 152,
   "id": "69dd8c30",
   "metadata": {},
   "outputs": [],
   "source": [
    "# 0/4 import tools\n",
    "\n",
    "from tools import search_tool, weather_tool\n",
    "from rag import RAGTool"
   ]
  },
  {
   "cell_type": "code",
   "execution_count": 153,
   "id": "88e6893b",
   "metadata": {},
   "outputs": [],
   "source": [
    "from langchain_core.messages import BaseMessage\n",
    "from typing import List"
   ]
  },
  {
   "cell_type": "code",
   "execution_count": 154,
   "id": "48093344",
   "metadata": {},
   "outputs": [],
   "source": [
    "# 1/4 State\n",
    "\n",
    "class GalaState(TypedDict):\n",
    "    messages: List[BaseMessage]\n",
    "    intermediate_steps: list\n",
    "    done: bool"
   ]
  },
  {
   "cell_type": "code",
   "execution_count": 155,
   "id": "df7dc5c1",
   "metadata": {},
   "outputs": [
    {
     "name": "stdout",
     "output_type": "stream",
     "text": [
      "OPENAI_API_KEY successfully processed\n"
     ]
    }
   ],
   "source": [
    "# TODO: Migrate _get_var to utils script\n",
    "\n",
    "import getpass\n",
    "\n",
    "def _get_var(var) -> None:\n",
    "    if os.getenv(var):\n",
    "        print(f\"{var} successfully processed\")\n",
    "    else:\n",
    "        os.environ[var] = getpass.getpass(prompt=f\"Type the value of {var}: \")\n",
    "        \n",
    "_get_var(\"OPENAI_API_KEY\")"
   ]
  },
  {
   "cell_type": "code",
   "execution_count": 156,
   "id": "926e30b6",
   "metadata": {},
   "outputs": [],
   "source": [
    "from langchain_core.messages import HumanMessage, AIMessage"
   ]
  },
  {
   "cell_type": "code",
   "execution_count": 157,
   "id": "d2fd82d8",
   "metadata": {},
   "outputs": [],
   "source": [
    "# 2/4 Nodes\n",
    "from langchain_core.runnables import Runnable\n",
    "from langgraph.prebuilt import ToolNode, tools_condition\n",
    "from langchain_openai import ChatOpenAI\n",
    "\n",
    "#def llm(state: GalaState,  ai_model: Any) -> None:\n",
    "#    response = ai_model.invoke(state)  # TODO: Process correctly the state\n",
    "#    return response \n",
    "\n",
    "model = ChatOpenAI(model=\"gpt-3.5-turbo\")\n",
    "tools = [RAGTool, weather_tool, search_tool]\n",
    "tools_node = ToolNode(tools)\n",
    "model_with_tools = model.bind_tools(tools)\n",
    "\n",
    "# Q: How to get the user query. What if he has another response? They must run a new agent call? does the agent forgets?\n",
    "def agent(state: GalaState) -> GalaState:   \n",
    "    textual_description = \"\"\"\n",
    "    LLM model. Reasons and observes the GalaState to make a decision or prompt a response.\n",
    "\n",
    "    Parameters\n",
    "    ----------\n",
    "    state : GalaState\n",
    "        Information about the chat. It has the following keys: graph_state, chat_history, next_node\n",
    "    \n",
    "    Returns:\n",
    "        type: GalaState\n",
    "    \n",
    "    Example:\n",
    "        >>> agent({\"messages\": \"Who is Batman\"})\n",
    "        Batman is a cool superhero\n",
    "    \"\"\"\n",
    "    chat_history = state.get(\"messages\", [])\n",
    "    \n",
    "    formatted_messages = [\n",
    "        {\"role\": \"user\" if msg.type == \"human\" else \"assistant\", \"content\": msg.content}\n",
    "        for msg in chat_history\n",
    "    ]\n",
    "    response = model_with_tools.invoke(input=formatted_messages)\n",
    "    \n",
    "    result = {\n",
    "        \"messages\": state.get(\"messages\", []) + [response]\n",
    "    }\n",
    "    \n",
    "    # Handle tool calls if they exist\n",
    "    if hasattr(response, \"tool_calls\") and response.tool_calls:\n",
    "        # This will trigger the tool execution in LangGraph\n",
    "        return {\"messages\": chat_history + [response]}\n",
    "    \n",
    "    # For regular responses\n",
    "    return {\n",
    "        \"messages\": chat_history + [response],\n",
    "        **{k: v for k, v in state.items() if k != \"messages\"}  # Preserve other state\n",
    "    }\n",
    "\n",
    "#agent_model = Runnable(llm)\n",
    "#agent_node = Runnable(agent_tools)\n"
   ]
  },
  {
   "cell_type": "code",
   "execution_count": 158,
   "id": "ba2f6d9d",
   "metadata": {},
   "outputs": [],
   "source": [
    "# 3/4 Edges\n",
    "\n",
    "\n",
    "# Start -> LLM call\n",
    "#Edge(START, llm)\n",
    "\n",
    "# LLM -> Tools | END \n",
    "def should_use_tool(state: GalaState) -> Literal[\"tools\", \"end\"]:  \n",
    "    \"\"\"\"\n",
    "    Determine whether to use tools based on the agent's last response\n",
    "    \"\"\"\n",
    "    \n",
    "    last_message = state.get(\"messages\", [])[-1]\n",
    "    \n",
    "    if hasattr(last_message, \"tool_calls\") and last_message.tool_calls:\n",
    "        next_node = \"tools\" \n",
    "    else: \n",
    "        next_node = \"end\"  \n",
    "        \n",
    "    return next_node\n",
    "    \n",
    "# Tools -> LLM\n",
    "#EDGE(\"tools\", \"llm\")\n",
    "\n",
    "#EDGE(\"llm\", END)"
   ]
  },
  {
   "cell_type": "code",
   "execution_count": 167,
   "id": "532a3f41",
   "metadata": {},
   "outputs": [],
   "source": [
    "# 3/4 Build the graph\n",
    "\n",
    "builder = StateGraph(state_schema=GalaState)\n",
    "\n",
    "# Add nodes\n",
    "builder.add_node(\"agent\", agent)\n",
    "builder.add_node(\"tools\", tools_node)\n",
    "\n",
    "# Add edges\n",
    "builder.add_edge(START, \"agent\")\n",
    "builder.add_conditional_edges(\n",
    "    \"agent\",\n",
    "    should_use_tool,\n",
    "    {\"tools\": \"tools\", \"end\": END}\n",
    ")\n",
    "builder.add_edge(\"tools\", \"agent\") # Agent processes tool results\n",
    "builder.add_edge(\"agent\", END) # Define a direct edge to END after the agent runs (either initially or after tools)\n",
    "\n",
    "agent_graph = builder.compile()"
   ]
  },
  {
   "cell_type": "code",
   "execution_count": 168,
   "id": "c9d90b17",
   "metadata": {},
   "outputs": [
    {
     "data": {
      "image/png": "[encoded data removed]",
      "text/plain": [
       "<IPython.core.display.Image object>"
      ]
     },
     "metadata": {},
     "output_type": "display_data"
    }
   ],
   "source": [
    "# 4/4 Visualize\n",
    "\n",
    "from IPython.display import display, Image\n",
    "\n",
    "display(Image(agent_graph.get_graph().draw_mermaid_png()))"
   ]
  },
  {
   "cell_type": "markdown",
   "id": "6a49fbdf",
   "metadata": {},
   "source": [
    "# Testing Phase"
   ]
  },
  {
   "cell_type": "code",
   "execution_count": 169,
   "id": "e06d0e2e",
   "metadata": {},
   "outputs": [],
   "source": [
    "prompt_1 = \"Hi. Tell me please Who is Ada and Which will be the story to tell about she?\"\n",
    "prompt_2 = \"Hi. Tell me please Which was the result of the match Barcelona vs Inter today for the 24/25 Champions League Semifinal\"\n",
    "prompt_3 = \"Hi. Tell me please how's the weather today at Barcelona\""
   ]
  },
  {
   "cell_type": "code",
   "execution_count": 170,
   "id": "328d62df",
   "metadata": {},
   "outputs": [
    {
     "name": "stderr",
     "output_type": "stream",
     "text": [
      "INFO:tools:WEATHER_API_KEY successfully processed\n",
      "INFO:tools:WEATHER_API_KEY successfully processed\n",
      "INFO:tools:WEATHER_API_KEY successfully processed\n",
      "INFO:tools:WEATHER_API_KEY successfully processed\n",
      "INFO:tools:WEATHER_API_KEY successfully processed\n",
      "INFO:tools:WEATHER_API_KEY successfully processed\n",
      "INFO:tools:WEATHER_API_KEY successfully processed\n"
     ]
    },
    {
     "ename": "GraphRecursionError",
     "evalue": "Recursion limit of 25 reached without hitting a stop condition. You can increase the limit by setting the `recursion_limit` config key.\nFor troubleshooting, visit: https://python.langchain.com/docs/troubleshooting/errors/GRAPH_RECURSION_LIMIT",
     "output_type": "error",
     "traceback": [
      "\u001b[0;31m---------------------------------------------------------------------------\u001b[0m",
      "\u001b[0;31mGraphRecursionError\u001b[0m                       Traceback (most recent call last)",
      "Cell \u001b[0;32mIn[170], line 1\u001b[0m\n\u001b[0;32m----> 1\u001b[0m response_1 \u001b[38;5;241m=\u001b[39m \u001b[43magent_graph\u001b[49m\u001b[38;5;241;43m.\u001b[39;49m\u001b[43minvoke\u001b[49m\u001b[43m(\u001b[49m\u001b[43m{\u001b[49m\u001b[38;5;124;43m\"\u001b[39;49m\u001b[38;5;124;43mmessages\u001b[39;49m\u001b[38;5;124;43m\"\u001b[39;49m\u001b[43m:\u001b[49m\u001b[43m \u001b[49m\u001b[43m[\u001b[49m\u001b[43mHumanMessage\u001b[49m\u001b[43m(\u001b[49m\u001b[43mcontent\u001b[49m\u001b[38;5;241;43m=\u001b[39;49m\u001b[43mprompt_1\u001b[49m\u001b[43m)\u001b[49m\u001b[43m]\u001b[49m\u001b[43m}\u001b[49m\u001b[43m)\u001b[49m\n",
      "File \u001b[0;32m~/current-projects/rag-agent-for-gala-hf/.venv/lib/python3.10/site-packages/langgraph/pregel/__init__.py:2804\u001b[0m, in \u001b[0;36mPregel.invoke\u001b[0;34m(self, input, config, stream_mode, output_keys, interrupt_before, interrupt_after, checkpoint_during, debug, **kwargs)\u001b[0m\n\u001b[1;32m   2801\u001b[0m chunks: \u001b[38;5;28mlist\u001b[39m[Union[\u001b[38;5;28mdict\u001b[39m[\u001b[38;5;28mstr\u001b[39m, Any], Any]] \u001b[38;5;241m=\u001b[39m []\n\u001b[1;32m   2802\u001b[0m interrupts: \u001b[38;5;28mlist\u001b[39m[Interrupt] \u001b[38;5;241m=\u001b[39m []\n\u001b[0;32m-> 2804\u001b[0m \u001b[38;5;28;01mfor\u001b[39;00m chunk \u001b[38;5;129;01min\u001b[39;00m \u001b[38;5;28mself\u001b[39m\u001b[38;5;241m.\u001b[39mstream(\n\u001b[1;32m   2805\u001b[0m     \u001b[38;5;28minput\u001b[39m,\n\u001b[1;32m   2806\u001b[0m     config,\n\u001b[1;32m   2807\u001b[0m     stream_mode\u001b[38;5;241m=\u001b[39mstream_mode,\n\u001b[1;32m   2808\u001b[0m     output_keys\u001b[38;5;241m=\u001b[39moutput_keys,\n\u001b[1;32m   2809\u001b[0m     interrupt_before\u001b[38;5;241m=\u001b[39minterrupt_before,\n\u001b[1;32m   2810\u001b[0m     interrupt_after\u001b[38;5;241m=\u001b[39minterrupt_after,\n\u001b[1;32m   2811\u001b[0m     checkpoint_during\u001b[38;5;241m=\u001b[39mcheckpoint_during,\n\u001b[1;32m   2812\u001b[0m     debug\u001b[38;5;241m=\u001b[39mdebug,\n\u001b[1;32m   2813\u001b[0m     \u001b[38;5;241m*\u001b[39m\u001b[38;5;241m*\u001b[39mkwargs,\n\u001b[1;32m   2814\u001b[0m ):\n\u001b[1;32m   2815\u001b[0m     \u001b[38;5;28;01mif\u001b[39;00m stream_mode \u001b[38;5;241m==\u001b[39m \u001b[38;5;124m\"\u001b[39m\u001b[38;5;124mvalues\u001b[39m\u001b[38;5;124m\"\u001b[39m:\n\u001b[1;32m   2816\u001b[0m         \u001b[38;5;28;01mif\u001b[39;00m (\n\u001b[1;32m   2817\u001b[0m             \u001b[38;5;28misinstance\u001b[39m(chunk, \u001b[38;5;28mdict\u001b[39m)\n\u001b[1;32m   2818\u001b[0m             \u001b[38;5;129;01mand\u001b[39;00m (ints \u001b[38;5;241m:=\u001b[39m chunk\u001b[38;5;241m.\u001b[39mget(INTERRUPT)) \u001b[38;5;129;01mis\u001b[39;00m \u001b[38;5;129;01mnot\u001b[39;00m \u001b[38;5;28;01mNone\u001b[39;00m\n\u001b[1;32m   2819\u001b[0m         ):\n",
      "File \u001b[0;32m~/current-projects/rag-agent-for-gala-hf/.venv/lib/python3.10/site-packages/langgraph/pregel/__init__.py:2461\u001b[0m, in \u001b[0;36mPregel.stream\u001b[0;34m(self, input, config, stream_mode, output_keys, interrupt_before, interrupt_after, checkpoint_during, debug, subgraphs)\u001b[0m\n\u001b[1;32m   2452\u001b[0m \u001b[38;5;28;01mif\u001b[39;00m loop\u001b[38;5;241m.\u001b[39mstatus \u001b[38;5;241m==\u001b[39m \u001b[38;5;124m\"\u001b[39m\u001b[38;5;124mout_of_steps\u001b[39m\u001b[38;5;124m\"\u001b[39m:\n\u001b[1;32m   2453\u001b[0m     msg \u001b[38;5;241m=\u001b[39m create_error_message(\n\u001b[1;32m   2454\u001b[0m         message\u001b[38;5;241m=\u001b[39m(\n\u001b[1;32m   2455\u001b[0m             \u001b[38;5;124mf\u001b[39m\u001b[38;5;124m\"\u001b[39m\u001b[38;5;124mRecursion limit of \u001b[39m\u001b[38;5;132;01m{\u001b[39;00mconfig[\u001b[38;5;124m'\u001b[39m\u001b[38;5;124mrecursion_limit\u001b[39m\u001b[38;5;124m'\u001b[39m]\u001b[38;5;132;01m}\u001b[39;00m\u001b[38;5;124m reached \u001b[39m\u001b[38;5;124m\"\u001b[39m\n\u001b[0;32m   (...)\u001b[0m\n\u001b[1;32m   2459\u001b[0m         error_code\u001b[38;5;241m=\u001b[39mErrorCode\u001b[38;5;241m.\u001b[39mGRAPH_RECURSION_LIMIT,\n\u001b[1;32m   2460\u001b[0m     )\n\u001b[0;32m-> 2461\u001b[0m     \u001b[38;5;28;01mraise\u001b[39;00m GraphRecursionError(msg)\n\u001b[1;32m   2462\u001b[0m \u001b[38;5;66;03m# set final channel values as run output\u001b[39;00m\n\u001b[1;32m   2463\u001b[0m run_manager\u001b[38;5;241m.\u001b[39mon_chain_end(loop\u001b[38;5;241m.\u001b[39moutput)\n",
      "\u001b[0;31mGraphRecursionError\u001b[0m: Recursion limit of 25 reached without hitting a stop condition. You can increase the limit by setting the `recursion_limit` config key.\nFor troubleshooting, visit: https://python.langchain.com/docs/troubleshooting/errors/GRAPH_RECURSION_LIMIT"
     ]
    }
   ],
   "source": [
    "response_1 = agent_graph.invoke({\"messages\": [HumanMessage(content=prompt_1)]})"
   ]
  },
  {
   "cell_type": "code",
   "execution_count": null,
   "id": "7c947f40",
   "metadata": {},
   "outputs": [],
   "source": []
  },
  {
   "cell_type": "code",
   "execution_count": null,
   "id": "55698d2e",
   "metadata": {},
   "outputs": [],
   "source": [
    "\n",
    "response_2 = agent_graph.invoke({\"messages\": [HumanMessage(prompt_2)]})\n"
   ]
  },
  {
   "cell_type": "code",
   "execution_count": null,
   "id": "c58a0b50",
   "metadata": {},
   "outputs": [],
   "source": [
    "\n",
    "response_3 = agent_graph.invoke({\"messages\": [HumanMessage(prompt_3)]})\n"
   ]
  },
  {
   "cell_type": "code",
   "execution_count": null,
   "id": "ff9a3787",
   "metadata": {},
   "outputs": [],
   "source": []
  }
 ],
 "metadata": {
  "kernelspec": {
   "display_name": ".venv",
   "language": "python",
   "name": "python3"
  },
  "language_info": {
   "codemirror_mode": {
    "name": "ipython",
    "version": 3
   },
   "file_extension": ".py",
   "mimetype": "text/x-python",
   "name": "python",
   "nbconvert_exporter": "python",
   "pygments_lexer": "ipython3",
   "version": "3.10.12"
  }
 },
 "nbformat": 4,
 "nbformat_minor": 5
}
